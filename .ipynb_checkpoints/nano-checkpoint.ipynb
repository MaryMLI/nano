{
 "cells": [
  {
   "cell_type": "markdown",
   "id": "2fa4b8c9",
   "metadata": {},
   "source": [
    "\n",
    "# Appendix 3. Optinisation of XGBClassifier with data features selected based on the K highest Chi-squared Scores¶\n",
    "\n",
    "## Dissertation, CP70017E, June 2022\n",
    "### Supervisor: Professor Konstantin Nikolic\n",
    "### Student: Mariya Ivanova, 21435612\n"
   ]
  },
  {
   "cell_type": "code",
   "execution_count": 1,
   "id": "c0cc0bff",
   "metadata": {},
   "outputs": [],
   "source": [
    "import warnings\n",
    "warnings.filterwarnings('ignore')"
   ]
  },
  {
   "cell_type": "code",
   "execution_count": 2,
   "id": "3ae43350",
   "metadata": {},
   "outputs": [],
   "source": [
    "# data from Apendix 1, In[76]\n",
    "%store -r X_train\n",
    "%store -r X_test\n",
    "%store -r y_train\n",
    "%store -r y_test"
   ]
  },
  {
   "cell_type": "code",
   "execution_count": null,
   "id": "14d5ecfa",
   "metadata": {},
   "outputs": [],
   "source": [
    "# XGBClassifier (eXtreme Gradient Boosting)\n",
    "from sklearn.model_selection import GridSearchCV\n",
    "from xgboost import XGBClassifier\n",
    "\n",
    "xgbc = XGBClassifier(verbosity=0, use_label_encoder=False)\n",
    "\n",
    "# Instantiate the GridSearchCV object and run the search\n",
    "parameters = {'max_depth':[3, 18, 1],\n",
    "              'gamma': [1,9],\n",
    "              'reg_alpha' : [40,180,1],\n",
    "              'reg_lambda' : ['reg_lambda', 0,1],\n",
    "              'colsample_bytree' : ['colsample_bytree', 0.5,1],\n",
    "              'min_child_weight' : ['min_child_weight', 0, 10, 1],\n",
    "              'n_estimators': [180,100],\n",
    "              'seed': [0]\n",
    "}\n",
    "searcher = GridSearchCV(xgbc, parameters, cv=10)\n",
    "searcher.fit(X_train, y_train)\n",
    "\n",
    "\n",
    "# Report the best parameters and the corresponding score\n",
    "print(\"Best CV params\", searcher.best_params_)\n",
    "print(\"Best CV accuracy\", searcher.best_score_)\n",
    "print(\"Test accuracy of best grid search hypers:\",\n",
    "      searcher.score(X_test, y_test))"
   ]
  },
  {
   "cell_type": "code",
   "execution_count": null,
   "id": "77da6284",
   "metadata": {},
   "outputs": [],
   "source": [
    "xgbc = XGBClassifier(colsample_bytree=0.5, gamma=1,\n",
    "                     max_depth=3, min_child_weight=0,\n",
    "                     n_estimators=180, reg_alpha=1,\n",
    "                     reg_lambda=0, seed=0)\n",
    "\n",
    "xgbc.fit(X_train, y_train)\n",
    "print(xgbc)"
   ]
  },
  {
   "cell_type": "code",
   "execution_count": null,
   "id": "5b27ccf3",
   "metadata": {},
   "outputs": [],
   "source": [
    "from sklearn.metrics import accuracy_score\n",
    "\n",
    "y_test_pred = xgbc.predict(X_test)\n",
    "y_train_pred = xgbc.predict(X_train)\n",
    "print(\"Accuracy train: \", accuracy_score(y_train, y_train_pred))\n",
    "print(\"Accuracy test: \", accuracy_score(y_test, y_test_pred))"
   ]
  },
  {
   "cell_type": "code",
   "execution_count": null,
   "id": "fe5ca7e3",
   "metadata": {},
   "outputs": [],
   "source": [
    "from sklearn.metrics import confusion_matrix\n",
    "from sklearn.metrics import ConfusionMatrixDisplay\n",
    "import matplotlib.pyplot as plt\n",
    "import seaborn as sns\n",
    "sns.set(rc = {'figure.figsize':(15,8)})\n",
    "\n",
    "cm = confusion_matrix(y_test, y_test_pred, labels=xgbc.classes_)\n",
    "disp = ConfusionMatrixDisplay(confusion_matrix=cm,\n",
    "                              display_labels=xgbc.classes_)\n",
    "disp.plot()\n",
    "plt.show()"
   ]
  },
  {
   "cell_type": "markdown",
   "id": "3b8eb3d8",
   "metadata": {},
   "source": [
    "Observation: 44+50 correct predictions and 7+1 incorrect predictions."
   ]
  },
  {
   "cell_type": "code",
   "execution_count": null,
   "id": "a4e03ee8",
   "metadata": {},
   "outputs": [],
   "source": [
    "from sklearn.metrics import classification_report\n",
    "\n",
    "print('XGBClassifier Classification Report :\\n\\n', \n",
    "      classification_report(y_test, y_test_pred))"
   ]
  },
  {
   "cell_type": "code",
   "execution_count": null,
   "id": "3eb90474",
   "metadata": {},
   "outputs": [],
   "source": [
    "from xgboost import plot_tree\n",
    "\n",
    "plot_tree(xgbc)\n",
    "plt.show()"
   ]
  },
  {
   "cell_type": "code",
   "execution_count": null,
   "id": "30660179",
   "metadata": {},
   "outputs": [],
   "source": [
    "# ROC\n",
    "from sklearn.metrics import roc_curve  \n",
    "\n",
    "def plot_roc_cur(fper, tper):  \n",
    "    plt.plot(fper, tper, color='orange', label='ROC')\n",
    "    plt.plot([0, 1], [0, 1], color='darkblue', linestyle='--')\n",
    "    plt.xlabel('False Positive Rate')\n",
    "    plt.ylabel('True Positive Rate')\n",
    "    plt.title('Receiver Operating Characteristic (ROC) Curve')\n",
    "    plt.legend()\n",
    "    plt.show()\n",
    "    \n",
    "probs = xgbc.predict_proba(X_test)  \n",
    "probs = probs[:, 1]  \n",
    "fper, tper, thresholds = roc_curve(y_test, probs) \n",
    "plot_roc_cur(fper, tper)"
   ]
  },
  {
   "cell_type": "markdown",
   "id": "77e00f3f",
   "metadata": {},
   "source": [
    "[<a href=\"#content\">Back to top</a>]"
   ]
  },
  {
   "cell_type": "markdown",
   "id": "4a638b55",
   "metadata": {},
   "source": [
    "## Prediction bioapplicability of a new nanorobot"
   ]
  },
  {
   "cell_type": "code",
   "execution_count": null,
   "id": "b773b68e",
   "metadata": {},
   "outputs": [],
   "source": [
    "# Use the model to predict new nanorobots bioaplicability \n",
    "import pandas as pd\n",
    "\n",
    "model= xgbc\n",
    "pd.to_pickle(model,r'C:\\Users\\ivano\\Dissertation\\new_model.pickle')\n",
    "model = pd.read_pickle(r'C:\\Users\\ivano\\Dissertation\\new_model.pickle')"
   ]
  },
  {
   "cell_type": "code",
   "execution_count": null,
   "id": "d5620511",
   "metadata": {},
   "outputs": [],
   "source": [
    "# NR new values user inputs \n",
    "Mass = float(input(\"Enter mass: \"))"
   ]
  },
  {
   "cell_type": "code",
   "execution_count": null,
   "id": "a085efa5",
   "metadata": {},
   "outputs": [],
   "source": [
    "Zeta_potential = float(input(\"Enter zeta_potential: \"))"
   ]
  },
  {
   "cell_type": "code",
   "execution_count": null,
   "id": "7cbaa929",
   "metadata": {},
   "outputs": [],
   "source": [
    "Concentration = float(input(\"Enter concentration: \"))"
   ]
  },
  {
   "cell_type": "code",
   "execution_count": null,
   "id": "8431cae3",
   "metadata": {},
   "outputs": [],
   "source": [
    "eV = float(input(\"Enter eV: \"))"
   ]
  },
  {
   "cell_type": "code",
   "execution_count": null,
   "id": "1ffdda6a",
   "metadata": {},
   "outputs": [],
   "source": [
    "Toxicity = float(input(\"Enter zeta potential: \"))"
   ]
  },
  {
   "cell_type": "code",
   "execution_count": null,
   "id": "aaa84686",
   "metadata": {},
   "outputs": [],
   "source": [
    "Energy_source_no = float(input(\"No need of energy source: \"))"
   ]
  },
  {
   "cell_type": "code",
   "execution_count": null,
   "id": "1eb63208",
   "metadata": {},
   "outputs": [],
   "source": [
    "Shape_Janus = float(input(\"Is it a Janus shape: \"))"
   ]
  },
  {
   "cell_type": "code",
   "execution_count": null,
   "id": "59636a73",
   "metadata": {},
   "outputs": [],
   "source": [
    "# Creat DataFramefrom the new values\n",
    "mass = [Mass]\n",
    "zeta_potential = [Zeta_potential]\n",
    "concentration = [Concentration]\n",
    "ev = [eV]\n",
    "toxicity = [Toxicity]\n",
    "energy_source_no = [Energy_source_no]\n",
    "shape_Janus = [Shape_Janus]\n",
    "\n",
    "\n",
    "\n",
    "dataf = pd.DataFrame({'mass':mass, 'zeta_potential':zeta_potential,\n",
    "                    'concentration':concentration, 'ev':ev,\n",
    "                    'toxicity':toxicity, 'energy_source_no':energy_source_no,\n",
    "                    'shape_Janus':shape_Janus})\n",
    "dataf"
   ]
  },
  {
   "cell_type": "code",
   "execution_count": null,
   "id": "45699457",
   "metadata": {},
   "outputs": [],
   "source": [
    "# Metadata\n",
    "data = []\n",
    "for feature in dataf.columns:\n",
    "\n",
    " # Defining the role\n",
    "    if 'mass' in feature or feature == 'zeta_potential'\\\n",
    "    or feature == 'concentration'  or feature == 'ev'\\\n",
    "    or feature == 'toxicity' or feature == 'energy_source_no'\\\n",
    "    or feature == 'shape_Janus':\n",
    "        use = 'input'\n",
    "        \n",
    " # Defining the type        \n",
    "    if 'mass' in feature or feature == 'zeta_potential'\\\n",
    "    or feature == 'concentration'  or feature == 'ev'\\\n",
    "    or feature == 'toxicity' or feature == 'energy_source_no'\\\n",
    "    or feature == 'shape_Janus':\n",
    "        type = 'real'\n",
    "\n",
    "# Initialize preserve to True for all variables\n",
    "    preserve = True\n",
    "\n",
    "# Defining the data type     \n",
    "    dtype = dataf[feature].dtype\n",
    "    if 'mass' in feature or feature == 'zeta_potential'\\\n",
    "    or feature == 'concentration'  or feature == 'ev'\\\n",
    "    or feature == 'toxicity' or feature == 'energy_source_no'\\\n",
    "    or feature == 'shape_Janus':\n",
    "        dtype = dataf[feature].dtype\n",
    "        \n",
    "        \n",
    "    feature_dictionary = {\n",
    "        'varname': feature,\n",
    "        'use': use,\n",
    "        'type': type,\n",
    "        'preserve': preserve,\n",
    "        'dtype': dtype,\n",
    "    }\n",
    "    data.append(feature_dictionary)\n",
    "    \n",
    "    \n",
    "meta = pd.DataFrame(data, columns=['varname', 'use', 'type', 'preserve', 'dtype'])\n",
    "meta.set_index('varname', inplace=True)\n",
    "pd.set_option('display.max_rows', meta.shape[0]+1)\n",
    "print(meta)"
   ]
  },
  {
   "cell_type": "code",
   "execution_count": null,
   "id": "fa6e0ef8",
   "metadata": {},
   "outputs": [],
   "source": [
    "# Creat interaction variables\n",
    "from sklearn.preprocessing import PolynomialFeatures\n",
    "\n",
    "v = meta[(meta.type == 'real') & (meta.preserve)].index\n",
    "poly = PolynomialFeatures(degree=2, interaction_only=False,\n",
    "                          include_bias=False)\n",
    "interactions = pd.DataFrame(data=poly.fit_transform(dataf[v]),\n",
    "                            columns=poly.get_feature_names_out(v))\n",
    "# Remove the original columns\n",
    "interactions.drop(v, axis=1, inplace=True)\n",
    "# Concat the interaction variables to the train data\n",
    "print('Before creating interactions we have {} variables'.format(dataf.shape[1]))\n",
    "dataf = pd.concat([dataf, interactions], axis=1)\n",
    "print('After creating interactions we have {} variables'.format(dataf.shape[1]))"
   ]
  },
  {
   "cell_type": "code",
   "execution_count": null,
   "id": "5009183c",
   "metadata": {},
   "outputs": [],
   "source": [
    "dataf"
   ]
  },
  {
   "cell_type": "code",
   "execution_count": null,
   "id": "f9cb4c81",
   "metadata": {},
   "outputs": [],
   "source": [
    "# Using 14 variables determoned asthe most influential\n",
    "result = model.predict([[dataf['mass^2'].mean(), dataf['mass zeta_potential'].mean(),\n",
    "                         dataf['mass concentration'].mean(), dataf['mass ev'].mean(), \n",
    "                         dataf['concentration^2'].mean(), dataf['zeta_potential^2'].mean(),\n",
    "                         dataf['concentration toxicity'].mean(), dataf['zeta_potential toxicity'].mean(),\n",
    "                         dataf['mass'].mean(),dataf['energy_source_no'].mean(), dataf['shape_Janus'].mean(), \n",
    "                         dataf['concentration ev'].mean(), dataf['toxicity'].mean()]])"
   ]
  },
  {
   "cell_type": "code",
   "execution_count": null,
   "id": "40c5d074",
   "metadata": {},
   "outputs": [],
   "source": [
    "print(\"Prediction is {}\".format(result))\n",
    "print(\"Legent:\\n[1] is 'Yes', it is bio-applicable\\n[0] is 'No', it is not bio-applicable\")"
   ]
  },
  {
   "cell_type": "code",
   "execution_count": null,
   "id": "6fe14867",
   "metadata": {},
   "outputs": [],
   "source": [
    "print(\"mass^2: {}\".format(dataf['mass^2'].mean()))\n",
    "print(\"mass zeta_potential: {}\".format(dataf['mass zeta_potential'].mean()))\n",
    "print(\"mass concentration: {}\".format(dataf['mass concentration'].mean()))\n",
    "print(\"mass ev: {}\".format(dataf['mass ev'].mean()))\n",
    "print(\"concentration^2: {}\".format(dataf['concentration^2'].mean()))\n",
    "print(\"zeta_potential^2: {}\".format(dataf['zeta_potential^2'].mean()))\n",
    "print(\"zeta_potential concentration: {}\".format(dataf['zeta_potential concentration'].mean()))\n",
    "print(\"concentration toxicity: {}\".format(dataf['concentration toxicity'].mean()))\n",
    "print(\"zeta_potential toxicity: {}\".format(dataf['zeta_potential toxicity'].mean()))\n",
    "print(\"mass: {}\".format(dataf['mass'].mean()))\n",
    "print(\"energy_source_no: {}\".format(dataf['energy_source_no'].mean()))\n",
    "print(\"shape_Janus: {}\".format(dataf['shape_Janus'].mean())) \n",
    "print(\"concentration ev: {}\".format(dataf['concentration ev'].mean()))\n",
    "print(\"toxicity: {}\".format(dataf['toxicity'].mean()))"
   ]
  },
  {
   "cell_type": "markdown",
   "id": "fa54fb06",
   "metadata": {},
   "source": [
    "[<a href=\"#content\">Back to top</a>]"
   ]
  }
 ],
 "metadata": {
  "kernelspec": {
   "display_name": "Python 3 (ipykernel)",
   "language": "python",
   "name": "python3"
  },
  "language_info": {
   "codemirror_mode": {
    "name": "ipython",
    "version": 3
   },
   "file_extension": ".py",
   "mimetype": "text/x-python",
   "name": "python",
   "nbconvert_exporter": "python",
   "pygments_lexer": "ipython3",
   "version": "3.10.2"
  }
 },
 "nbformat": 4,
 "nbformat_minor": 5
}
